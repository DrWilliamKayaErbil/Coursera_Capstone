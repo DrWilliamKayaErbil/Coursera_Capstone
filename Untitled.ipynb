{
 "cells": [
  {
   "cell_type": "markdown",
   "metadata": {},
   "source": [
    "# Pre Setup of Dataframe (skip)"
   ]
  },
  {
   "cell_type": "code",
   "execution_count": null,
   "metadata": {},
   "outputs": [],
   "source": [
    "import pandas as pd\n",
    "import numpy as np\n",
    "from bs4 import BeautifulSoup\n",
    "import urllib.request\n",
    "\n",
    "#Import\n",
    "fp = urllib.request.urlopen(\"https://en.wikipedia.org/wiki/List_of_postal_codes_of_Canada:_M\")\n",
    "mybytes = fp.read()\n",
    "html_doc = mybytes.decode(\"utf8\")\n",
    "fp.close()\n",
    "soup = BeautifulSoup(html_doc, 'lxml')\n",
    "My_table = soup.find('table',{'class':'wikitable sortable'})\n",
    "df = pd.read_html(str(My_table))\n",
    "df= df[0]\n",
    "headers= ['Postcode', 'Bourough', 'Neighborhood']\n",
    "df.columns= headers\n",
    "df= df.drop(df.index[0])\n",
    "\n",
    "df.replace(\"Not assigned\", np.nan, inplace = True) #Convert existing data missing information to nan\n",
    "df.dropna(subset=[\"Bourough\"],inplace=True) # drop any rows with missing values in any cell. INPLACE impact dataframe if true\n",
    "df.reset_index(drop=True, inplace=True) #reindex\n",
    "\n",
    "\n",
    "\n",
    "PostAr= df.Postcode.unique() #unique list of postcode\n",
    "#Create an array of x with a second entry with 'a' to signify string\n",
    "x=[]\n",
    "for post in PostAr:\n",
    "    x.append([post,'a'])   \n",
    "\n",
    "#Step 2: Fill the x array with the neighborhood\n",
    "    # Alg1: if rayindex= dataframe postcode and neighborhood is not in value\n",
    "    # Alg2: THEN we add the neighborhood in entry and repeat\n",
    "for i,square in enumerate(x):    \n",
    "    for index, row in df.iterrows():\n",
    "        if (df.loc[index][0])== (x[i][0]) and (str(df.loc[index][2]) in x[i][1]) == False:\n",
    "            x[i][1]= x[i][1] + ', ' + str(df.loc[index][2])\n",
    "        else:\n",
    "            pass\n",
    "\n",
    "\n",
    "#Step 3: Remove 'a,' from the entries        \n",
    "for i,square in enumerate(x):\n",
    "    x[i][1]=x[i][1][3:]\n",
    "    \n",
    "\n",
    "    \n",
    "# Drop third column\n",
    "df1 = df.iloc[0:,[0,1]]\n",
    "# Drop the duplicates of new dataframe\n",
    "df2 = df1.drop_duplicates()\n",
    "df2.reset_index(drop=True, inplace=True) #reindex\n",
    "\n",
    "#Add a new column filled with a\n",
    "df2['Neighborhood'] = 'a'\n",
    "\n",
    "#Fill the Neighborhood column with x list\n",
    "for i,square in enumerate(x):    \n",
    "    for index, row in df2.iterrows():\n",
    "        if df2.loc[index][0]== (x[i][0]):\n",
    "            df2.loc[index][2]= (x[i][1])\n",
    "        else:\n",
    "            pass\n",
    "\n",
    "# Replace missing Neighborhood with Bourough        \n",
    "df2.loc[df2['Neighborhood'] == 'nan']\n",
    "df2['Neighborhood'].replace('nan', \"Queen's Park\", inplace= True)"
   ]
  },
  {
   "cell_type": "markdown",
   "metadata": {},
   "source": [
    "# Latitude/Long Table"
   ]
  },
  {
   "cell_type": "code",
   "execution_count": null,
   "metadata": {},
   "outputs": [],
   "source": [
    "import pandas as pd\n",
    "import numpy as np\n",
    "\n",
    "df3 = pd.read_csv('Geospatial_Coordinates.csv')\n",
    "df3\n",
    "\n",
    "for i \n",
    "\n",
    "df2['Latitude'] = df3[1]"
   ]
  },
  {
   "cell_type": "code",
   "execution_count": null,
   "metadata": {},
   "outputs": [],
   "source": []
  }
 ],
 "metadata": {
  "kernelspec": {
   "display_name": "Python 3",
   "language": "python",
   "name": "python3"
  },
  "language_info": {
   "codemirror_mode": {
    "name": "ipython",
    "version": 3
   },
   "file_extension": ".py",
   "mimetype": "text/x-python",
   "name": "python",
   "nbconvert_exporter": "python",
   "pygments_lexer": "ipython3",
   "version": "3.7.1"
  }
 },
 "nbformat": 4,
 "nbformat_minor": 2
}
