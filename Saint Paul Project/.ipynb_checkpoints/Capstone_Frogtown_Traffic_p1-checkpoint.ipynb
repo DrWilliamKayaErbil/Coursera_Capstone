{
 "cells": [
  {
   "cell_type": "markdown",
   "metadata": {},
   "source": [
    "# Frogtown/Saint Paul Traffic Stop Report_1 Intro\n",
    "## By Abu Nayeem (04/07/19)"
   ]
  },
  {
   "cell_type": "markdown",
   "metadata": {},
   "source": [
    "\n",
    "**Disclaimer:** This is my Coursera Capstone Project for Data Science. Also, I will be using the term \"Blacks\" instead of African Amercian because that is the race indicator provided from the dataset and the category also includes persons of African origin (substantial minority). \n",
    "\n",
    "### About Me:\n",
    "\n",
    "    My name is Abu Nayeem. I'm a Frogtown resident and community advocate in Saint Paul. I'm interested in using open-source data to tell stories to create action. I'll be creating a Github folder with SaintPaul datasets, graphs, etc. I encourage other programmers to use the code and/or share your code.   \n",
    "\n",
    "\n",
    "### Purpose:\n",
    "\n",
    "    Currently in the United States, there is alot of tension between law enforcement, and the public. In the past, law enforcement have targeted (implicitly or explicitly) African Americans. Historically, the Twin Cities, consisting of the cities Saint Paul and Minneapolis, the police departments have a tense history involving recent prolific police shootings, clamping down on labor activists, and other violations. I will be looking into the Traffic Stop Data for Saint Paul, Minnesota (USA) from the Saint Paul Police Department (SPPD). Analyzing the traffic stop data can provide evidence (or lack thereof) of systemic biases. The goal of my report to add insight on what is happening in my community, Thomas-Dale neighborhood aka Frogtown, as well as advocate citizens to use open source data and/or demand their public agencies to provide such data. My analysis will have a heavy racial focus.\n",
    "    \n",
    "### Executive Summary:\n",
    "\n",
    "    There are certain parts of Frogtown that have greater frequency of traffic stops compared to rest of the neighborhood, particularly along University University Avenue.The data suggests that Blacks are targets given that they are stopped more frequently, searched more frequently per stop, and less likelihood to recieve a citation. Some other data insights include that moving violation stops are given mostly in the morning and have a higher citation rate. In contrast, during the late night hours, there are greater instances of equipment violations. Furthermore, there seems to be many communities, including Frogtown that have considerable instances of equipment violations.\n",
    "    \n",
    "\n",
    "### Why prove the obvious?\n",
    "\n",
    "    The results may be obvious, but proving it may be more challenging. As a researcher, my goal is to measure the impact, seek the truth, explore, and challenge my expectations. Data can be the great equalizer challenging our worldviews and/or reinforcing our existing perspective. Data reports can be used to share stories and information effectively. Furthermore, data is used as an evaluation tool to determine the effectiveness of programs and policies.\n",
    "    Thus data practitioners, more broadly institutions, hold strong responsibility and influence in shaping the data in support a certain narrative. In our current polticial climate, the public perception on law enforcement is polarized and I hope these studies can shed light on the issues. This report and other will be available via open source, allowing others to contribute, replicate, use code for their own respective neighborhood.\n"
   ]
  },
  {
   "cell_type": "markdown",
   "metadata": {},
   "source": [
    "# About Thomas-Frogtown Neighborhood\n",
    "\n",
    "The Frogtown has historically been a transitional community with new immigrant/refuge communities live in the neighborhood for short period of time and then move elsewhere. From my experience, Frogtown boasts considerable diversity respect to language, culture, and ethnicity. In recent times, it has been historically poor. Here is a snapshot of the community  exported from [Minnesota Compass](https://www.mncompass.org/profiles/neighborhoods/st-paul/frogtown-thomas-dale) based on 2017 Census Demographic Data.\n",
    "\n",
    "![title](Pics/SP_Traffic/fg_Race1.png)\n",
    "\n",
    "![title](Pics/SP_Traffic/fgInc1.png)\n",
    "\n",
    "\n",
    "### Frogtown Community Information\n",
    "\n",
    "The image below displays the Frogtown Community using the police grid (matches well with actual boundaries). On the southern boundary of Frogtown is University Avenue, where the Light Rail Transportation runs along the boundary and it is a heavy residential street as well. I will emphasize more noticeable landmarks once plugging in the 4-square data. The two rightmost sectors are respectfully Mt. Airy and Capitol Heights. These two communities are considered distinct by community members. \n",
    "\n",
    "![title](Pics/SP_Traffic/FG_Grid.png)\n",
    "\n"
   ]
  },
  {
   "cell_type": "code",
   "execution_count": null,
   "metadata": {},
   "outputs": [],
   "source": []
  },
  {
   "cell_type": "code",
   "execution_count": null,
   "metadata": {},
   "outputs": [],
   "source": []
  }
 ],
 "metadata": {
  "kernelspec": {
   "display_name": "Python 3",
   "language": "python",
   "name": "python3"
  },
  "language_info": {
   "codemirror_mode": {
    "name": "ipython",
    "version": 3
   },
   "file_extension": ".py",
   "mimetype": "text/x-python",
   "name": "python",
   "nbconvert_exporter": "python",
   "pygments_lexer": "ipython3",
   "version": "3.7.1"
  }
 },
 "nbformat": 4,
 "nbformat_minor": 2
}
