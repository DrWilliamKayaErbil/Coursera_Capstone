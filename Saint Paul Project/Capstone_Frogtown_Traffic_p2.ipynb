{
 "cells": [
  {
   "cell_type": "markdown",
   "metadata": {},
   "source": [
    "# Frogtown/Saint Paul Traffic Stop Report_2 Data\n",
    "## By Abu Nayeem (04/07/19)"
   ]
  },
  {
   "cell_type": "markdown",
   "metadata": {},
   "source": [
    "\n",
    "**Disclaimer:** This is my Coursera Capstone Project for Data Science. Also, I will be using the term \"Blacks\" instead of African Amercian because that is the race indicator provided from the dataset and the category also includes persons of African origin (substantial minority). \n",
    "\n",
    "\n",
    "### About the Datasets:\n",
    "\n",
    "The dataset contains SPPD traffic stop collected by SSPD from 2000 to 2018 via agreement of the Saint Paul chapter of the NAACP and can be accessed [here](https://information.stpaul.gov/Public-Safety/Traffic-Stop-Dataset/kkd6-vvns). The website have a lot of features and visualizations for basic analysis, but for advanced users data transformations are not available/ limited. I have chosen to select years from 2017 to 2018 based on data limitations.\n",
    "\n",
    "Data Features:\n",
    "* Individual Traffic Stop Data\n",
    "* Driver characteristics\n",
    "    - Gender, Age (if recieve citation), and Race \n",
    "    - Was the driver searched, vehicle searched, and/or recieve a citation?\n",
    "* GeoCoordinates of center of police grid and timestamp for\n",
    "\n",
    "Data limitation as explain on the website:\n",
    "* Reason for stop (available starting in 2017)\n",
    "    - Include Moving Violation, Equipment Violation, Investigative Stop, and 911 call\n",
    "* Data reflects traffic stops originating by St. Paul Police Officers\n",
    "* Race is based on officers’ perceptions\n",
    "* Fields indicating “No Data” may be due to a variety of factors, including:\n",
    "    - Age data is only collected when a citation is issued\n",
    "    - Reason for stop data was not collected before 2017\n",
    "    - Technology changes over time/ Technical Errors/ Lack of Available information\n",
    "\n",
    "* Supplemental Info Suggested by Author\n",
    "    - [Traffic Crashes by Police Grid 2018](https://www.stpaul.gov/sites/default/files/Media%20Root/Police/Traffic%20Crashes%20in%20Saint%20Paul%202018.pdf)\n",
    "    - [Traffic Stops by Police Grid 2018](https://www.stpaul.gov/sites/default/files/Media%20Root/Police/2018%20Traffic%20Stops.pdf)\n",
    "    - [911 Calls by Police Grid 2018](https://www.stpaul.gov/sites/default/files/Media%20Root/Police/911%20Calls%20in%20Saint%20Paul%202018.pdf)\n",
    "\n",
    "The dataset consist of each record of driver being stopped, but the locations coordinates are limited to the police grid coordinates. There is maybe over 90 or so police grids! \n",
    "\n",
    "![title](Pics/SP_Traffic/policegrid.png)\n",
    "\n",
    "#### Four-Square API Dataset\n",
    "\n",
    "I'll be using the Four-square API to get information on local busineses and the respective geo-coordinates. Some stores may traffic especially during the night time. \n",
    "\n",
    "#### Minnesota Compass 2017 Census Survey Data\n",
    "\n",
    "The Minnesota Compass offers raw data for both Minneapolis and Saint Paul districts. They are a non-partisan group."
   ]
  },
  {
   "cell_type": "code",
   "execution_count": null,
   "metadata": {},
   "outputs": [],
   "source": []
  },
  {
   "cell_type": "code",
   "execution_count": null,
   "metadata": {},
   "outputs": [],
   "source": []
  }
 ],
 "metadata": {
  "kernelspec": {
   "display_name": "Python 3",
   "language": "python",
   "name": "python3"
  },
  "language_info": {
   "codemirror_mode": {
    "name": "ipython",
    "version": 3
   },
   "file_extension": ".py",
   "mimetype": "text/x-python",
   "name": "python",
   "nbconvert_exporter": "python",
   "pygments_lexer": "ipython3",
   "version": "3.7.1"
  }
 },
 "nbformat": 4,
 "nbformat_minor": 2
}
