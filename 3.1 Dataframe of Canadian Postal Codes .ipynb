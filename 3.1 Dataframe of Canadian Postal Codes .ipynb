{
 "cells": [
  {
   "cell_type": "markdown",
   "metadata": {},
   "source": [
    "3.1 For this assignment, I will be parsing a table from Wikipedia and creating a dataframe"
   ]
  },
  {
   "cell_type": "markdown",
   "metadata": {
    "heading_collapsed": true
   },
   "source": [
    "# Set-up"
   ]
  },
  {
   "cell_type": "code",
   "execution_count": 270,
   "metadata": {
    "hidden": true
   },
   "outputs": [],
   "source": [
    "import pandas as pd\n",
    "import numpy as np\n",
    "from bs4 import BeautifulSoup\n",
    "import urllib.request\n",
    "import warnings\n",
    "warnings.filterwarnings('ignore')\n",
    "\n",
    "#Import\n",
    "fp = urllib.request.urlopen(\"https://en.wikipedia.org/wiki/List_of_postal_codes_of_Canada:_M\")\n",
    "mybytes = fp.read()\n",
    "\n",
    "#change coding\n",
    "html_doc = mybytes.decode(\"utf8\")\n",
    "fp.close()\n",
    "\n",
    "#create soup\n",
    "soup = BeautifulSoup(html_doc, 'lxml')\n"
   ]
  },
  {
   "cell_type": "markdown",
   "metadata": {
    "heading_collapsed": true
   },
   "source": [
    "# Data Prep"
   ]
  },
  {
   "cell_type": "code",
   "execution_count": 271,
   "metadata": {
    "hidden": true
   },
   "outputs": [],
   "source": [
    "# Using beautiful soup and Inspect element allowed to find the html section\n",
    "My_table = soup.find('table',{'class':'wikitable sortable'})\n",
    "\n",
    "#create a dataframe with information\n",
    "df = pd.read_html(str(My_table))\n",
    "#all the information is placed on first entry; so take it out\n",
    "df= df[0]\n",
    "\n",
    "#Setup Index\n",
    "headers= ['Postcode', 'Bourough', 'Neighborhood']\n",
    "df.columns= headers\n",
    "\n",
    "#drop inedex method\n",
    "df= df.drop(df.index[0])\n",
    "#df\n",
    "\n",
    "#Dealing with Missing Values\n",
    "df.replace(\"Not assigned\", np.nan, inplace = True) #Convert existing data missing information to nan\n",
    "df.dropna(subset=[\"Bourough\"],inplace=True) # drop any rows with missing values in any cell. INPLACE impact dataframe if true\n",
    "df.reset_index(drop=True, inplace=True) #reindex\n",
    "\n",
    "# Inefficient beautiful soup method\n",
    "#S1=soup.body.find('div', class_='mw-body-content',id='bodyContent')\n",
    "#S2= S1.find('div', id='mw-content-text')\n",
    "#S3= S2.find('div', class_='mw-parser-output')\n",
    "#S4= S3.find('table')#, class_='mw-parser-output')\n",
    "#S5= S4.tbody.tr #[''#.th#.text#.text\n",
    "\n"
   ]
  },
  {
   "cell_type": "markdown",
   "metadata": {},
   "source": [
    "# Collapsing Data Algorithm"
   ]
  },
  {
   "cell_type": "code",
   "execution_count": 272,
   "metadata": {},
   "outputs": [],
   "source": [
    "# Step 1: Create an array with postcodes, and an empty spot to fill\n",
    "\n",
    "PostAr= df.Postcode.unique() #unique list of postcode\n",
    "#Create an array of x with a second entry with 'a' to signify string\n",
    "x=[]\n",
    "for post in PostAr:\n",
    "    x.append([post,'a'])   \n",
    "\n",
    "#Step 2: Fill the x array with the neighborhood\n",
    "    # Alg1: if rayindex= dataframe postcode and neighborhood is not in value\n",
    "    # Alg2: THEN we add the neighborhood in entry and repeat\n",
    "for i,square in enumerate(x):    \n",
    "    for index, row in df.iterrows():\n",
    "        if (df.loc[index][0])== (x[i][0]) and (str(df.loc[index][2]) in x[i][1]) == False:\n",
    "            x[i][1]= x[i][1] + ', ' + str(df.loc[index][2])\n",
    "        else:\n",
    "            pass\n",
    "\n",
    "\n",
    "#Step 3: Remove 'a,' from the entries        \n",
    "for i,square in enumerate(x):\n",
    "    x[i][1]=x[i][1][3:]\n",
    "\n",
    "#SAMPLE Text\n",
    "\n",
    "#for i,square in enumerate(x):\n",
    "#    print(type(x[i][1]))\n",
    " #   x[i][1]= x[i][1] + ', ' + df.loc[index][2]\n",
    "    #print(x[i][1] + 'a')\n",
    "    #for index, row in df.iterrows(): \n",
    "    \n",
    "#for index, row in df.iterrows():\n",
    "    #print(index) #print index number\n",
    "    #print(type(df.loc[index][0]))\n",
    "  #  print(df.loc[index][2])\n",
    "    #print(df[row])\n",
    "#df.iloc[0, 0]\n",
    " "
   ]
  },
  {
   "cell_type": "markdown",
   "metadata": {
    "heading_collapsed": true
   },
   "source": [
    "# Recreating Dataframe"
   ]
  },
  {
   "cell_type": "code",
   "execution_count": 273,
   "metadata": {
    "hidden": true
   },
   "outputs": [],
   "source": [
    "# Drop third column\n",
    "df1 = df.iloc[0:,[0,1]]\n",
    "# Drop the duplicates of new dataframe\n",
    "df2 = df1.drop_duplicates()\n",
    "df2.reset_index(drop=True, inplace=True) #reindex\n",
    "\n",
    "#Add a new column filled with a\n",
    "df2['Neighborhood'] = 'a'\n",
    "\n",
    "#Fill the Neighborhood column with x list\n",
    "for i,square in enumerate(x):    \n",
    "    for index, row in df2.iterrows():\n",
    "        if df2.loc[index][0]== (x[i][0]):\n",
    "            df2.loc[index][2]= (x[i][1])\n",
    "        else:\n",
    "            pass\n",
    "\n",
    "# Replace missing Neighborhood with Bourough        \n",
    "df2.loc[df2['Neighborhood'] == 'nan']\n",
    "df2['Neighborhood'].replace('nan', \"Queen's Park\", inplace= True)\n",
    "df2.iloc[4][2] #Test it\n",
    "\n",
    "#Complete\n",
    "df2\n",
    "\n",
    "export_csv = df2.to_csv (r'C:\\Users\\17189\\Documents\\GitHub\\Coursera_Capstone\\postal_df', index = None, header=True)\n",
    "#Don't forget to add '.csv' at the end of the path\n",
    "\n"
   ]
  },
  {
   "cell_type": "code",
   "execution_count": null,
   "metadata": {
    "hidden": true
   },
   "outputs": [],
   "source": []
  }
 ],
 "metadata": {
  "kernelspec": {
   "display_name": "Python 3",
   "language": "python",
   "name": "python3"
  },
  "language_info": {
   "codemirror_mode": {
    "name": "ipython",
    "version": 3
   },
   "file_extension": ".py",
   "mimetype": "text/x-python",
   "name": "python",
   "nbconvert_exporter": "python",
   "pygments_lexer": "ipython3",
   "version": "3.7.1"
  }
 },
 "nbformat": 4,
 "nbformat_minor": 2
}
