{
 "cells": [
  {
   "cell_type": "markdown",
   "metadata": {},
   "source": [
    "3.3 For this assignment, We will create a clustermap"
   ]
  },
  {
   "cell_type": "markdown",
   "metadata": {
    "heading_collapsed": true
   },
   "source": [
    "# Set-up"
   ]
  },
  {
   "cell_type": "code",
   "execution_count": 44,
   "metadata": {
    "hidden": true
   },
   "outputs": [],
   "source": [
    "import pandas as pd\n",
    "import numpy as np\n",
    "from bs4 import BeautifulSoup\n",
    "import urllib.request\n",
    "import warnings\n",
    "warnings.filterwarnings('ignore')\n",
    "\n",
    "#Import\n",
    "fp = urllib.request.urlopen(\"https://en.wikipedia.org/wiki/List_of_postal_codes_of_Canada:_M\")\n",
    "mybytes = fp.read()\n",
    "\n",
    "#change coding\n",
    "html_doc = mybytes.decode(\"utf8\")\n",
    "fp.close()\n",
    "\n",
    "#create soup\n",
    "soup = BeautifulSoup(html_doc, 'lxml')\n"
   ]
  },
  {
   "cell_type": "code",
   "execution_count": 3,
   "metadata": {
    "hidden": true
   },
   "outputs": [],
   "source": [
    "# Using beautiful soup and Inspect element allowed to find the html section\n",
    "My_table = soup.find('table',{'class':'wikitable sortable'})\n",
    "\n",
    "#create a dataframe with information\n",
    "df = pd.read_html(str(My_table))\n",
    "#all the information is placed on first entry; so take it out\n",
    "df= df[0]\n",
    "\n",
    "#Setup Index\n",
    "headers= ['Postcode', 'Bourough', 'Neighborhood']\n",
    "df.columns= headers\n",
    "\n",
    "#drop inedex method\n",
    "df= df.drop(df.index[0])\n",
    "#df\n",
    "\n",
    "#Dealing with Missing Values\n",
    "df.replace(\"Not assigned\", np.nan, inplace = True) #Convert existing data missing information to nan\n",
    "df.dropna(subset=[\"Bourough\"],inplace=True) # drop any rows with missing values in any cell. INPLACE impact dataframe if true\n",
    "df.reset_index(drop=True, inplace=True) #reindex\n",
    "\n",
    "# Inefficient beautiful soup method\n",
    "#S1=soup.body.find('div', class_='mw-body-content',id='bodyContent')\n",
    "#S2= S1.find('div', id='mw-content-text')\n",
    "#S3= S2.find('div', class_='mw-parser-output')\n",
    "#S4= S3.find('table')#, class_='mw-parser-output')\n",
    "#S5= S4.tbody.tr #[''#.th#.text#.text\n",
    "\n"
   ]
  },
  {
   "cell_type": "code",
   "execution_count": 5,
   "metadata": {
    "hidden": true
   },
   "outputs": [],
   "source": [
    "# Step 1: Create an array with postcodes, and an empty spot to fill\n",
    "\n",
    "PostAr= df.Postcode.unique() #unique list of postcode\n",
    "#Create an array of x with a second entry with 'a' to signify string\n",
    "x=[]\n",
    "for post in PostAr:\n",
    "    x.append([post,'a'])   \n",
    "\n",
    "#Step 2: Fill the x array with the neighborhood\n",
    "    # Alg1: if rayindex= dataframe postcode and neighborhood is not in value\n",
    "    # Alg2: THEN we add the neighborhood in entry and repeat\n",
    "for i,square in enumerate(x):    \n",
    "    for index, row in df.iterrows():\n",
    "        if (df.loc[index][0])== (x[i][0]) and (str(df.loc[index][2]) in x[i][1]) == False:\n",
    "            x[i][1]= x[i][1] + ', ' + str(df.loc[index][2])\n",
    "        else:\n",
    "            pass\n",
    "\n",
    "\n",
    "#Step 3: Remove 'a,' from the entries        \n",
    "for i,square in enumerate(x):\n",
    "    x[i][1]=x[i][1][3:]\n",
    "\n",
    " "
   ]
  },
  {
   "cell_type": "code",
   "execution_count": 45,
   "metadata": {
    "hidden": true
   },
   "outputs": [
    {
     "data": {
      "text/plain": [
       "\"Queen's Park\""
      ]
     },
     "execution_count": 45,
     "metadata": {},
     "output_type": "execute_result"
    }
   ],
   "source": [
    "# Drop third column\n",
    "df1 = df.iloc[0:,[0,1]]\n",
    "# Drop the duplicates of new dataframe\n",
    "df2 = df1.drop_duplicates()\n",
    "df2.reset_index(drop=True, inplace=True) #reindex\n",
    "\n",
    "#Add a new column filled with a\n",
    "df2['Neighborhood'] = 'a'\n",
    "\n",
    "#Fill the Neighborhood column with x list\n",
    "for i,square in enumerate(x):    \n",
    "    for index, row in df2.iterrows():\n",
    "        if df2.loc[index][0]== (x[i][0]):\n",
    "            df2.loc[index][2]= (x[i][1])\n",
    "        else:\n",
    "            pass\n",
    "\n",
    "# Replace missing Neighborhood with Bourough        \n",
    "df2.loc[df2['Neighborhood'] == 'nan']\n",
    "df2['Neighborhood'].replace('nan', \"Queen's Park\", inplace= True)\n",
    "df2.iloc[4][2] #Test it\n",
    "\n",
    "\n"
   ]
  },
  {
   "cell_type": "markdown",
   "metadata": {
    "heading_collapsed": true
   },
   "source": [
    "# Assignment 2: Table with Latitude and Longitude"
   ]
  },
  {
   "cell_type": "code",
   "execution_count": 58,
   "metadata": {
    "hidden": true
   },
   "outputs": [],
   "source": [
    "#step 1: Read Geospatial Coordicates Date\n",
    "\n",
    "df3 = pd.read_csv('Geospatial_Coordinates.csv')\n",
    "\n",
    "#Set default column and values\n",
    "df2['Latitude'] = 43.806\n",
    "df2['Longitude'] = -79.194\n",
    "\n",
    "#df2.loc[1][3]\n",
    "#print(df2.iat[1,3])\n",
    "\n",
    "# Create a loop replacing column values using geocoordinates; Notice the iat command is used to replace values in column\n",
    "for jindex,square in df3.iterrows():    \n",
    "    for index, row in df2.iterrows():\n",
    "        if df2.loc[index][0]== str(df3.loc[jindex][0]): #this is the common key for both tables\n",
    "            #print(type(df3.loc[jindex][1]))\n",
    "            #print(df2.iat[index,3])\n",
    "            df2.iat[index,3]= df3.loc[jindex][1] #iat is used for replacement of values\n",
    "            df2.iat[index,4]= df3.loc[jindex][2]\n",
    "        else:\n",
    "            pass\n",
    "\n",
    "# Final Table        \n",
    "#df2\n",
    "       "
   ]
  },
  {
   "cell_type": "markdown",
   "metadata": {},
   "source": [
    "# Assignment 3: Toronto  Analysis"
   ]
  },
  {
   "cell_type": "markdown",
   "metadata": {},
   "source": [
    "Load Packages and select Bouroughs that have Toronto"
   ]
  },
  {
   "cell_type": "code",
   "execution_count": 59,
   "metadata": {},
   "outputs": [
    {
     "data": {
      "text/html": [
       "<div>\n",
       "<style scoped>\n",
       "    .dataframe tbody tr th:only-of-type {\n",
       "        vertical-align: middle;\n",
       "    }\n",
       "\n",
       "    .dataframe tbody tr th {\n",
       "        vertical-align: top;\n",
       "    }\n",
       "\n",
       "    .dataframe thead th {\n",
       "        text-align: right;\n",
       "    }\n",
       "</style>\n",
       "<table border=\"1\" class=\"dataframe\">\n",
       "  <thead>\n",
       "    <tr style=\"text-align: right;\">\n",
       "      <th></th>\n",
       "      <th>Postcode</th>\n",
       "      <th>Bourough</th>\n",
       "      <th>Neighborhood</th>\n",
       "      <th>Latitude</th>\n",
       "      <th>Longitude</th>\n",
       "    </tr>\n",
       "  </thead>\n",
       "  <tbody>\n",
       "    <tr>\n",
       "      <th>0</th>\n",
       "      <td>M5A</td>\n",
       "      <td>Downtown Toronto</td>\n",
       "      <td>Harbourfront, Regent Park</td>\n",
       "      <td>43.654260</td>\n",
       "      <td>-79.360636</td>\n",
       "    </tr>\n",
       "    <tr>\n",
       "      <th>1</th>\n",
       "      <td>M5B</td>\n",
       "      <td>Downtown Toronto</td>\n",
       "      <td>Ryerson, Garden District</td>\n",
       "      <td>43.657162</td>\n",
       "      <td>-79.378937</td>\n",
       "    </tr>\n",
       "    <tr>\n",
       "      <th>2</th>\n",
       "      <td>M5C</td>\n",
       "      <td>Downtown Toronto</td>\n",
       "      <td>St. James Town</td>\n",
       "      <td>43.651494</td>\n",
       "      <td>-79.375418</td>\n",
       "    </tr>\n",
       "    <tr>\n",
       "      <th>3</th>\n",
       "      <td>M4E</td>\n",
       "      <td>East Toronto</td>\n",
       "      <td>The Beaches</td>\n",
       "      <td>43.676357</td>\n",
       "      <td>-79.293031</td>\n",
       "    </tr>\n",
       "    <tr>\n",
       "      <th>4</th>\n",
       "      <td>M5E</td>\n",
       "      <td>Downtown Toronto</td>\n",
       "      <td>Berczy Park</td>\n",
       "      <td>43.644771</td>\n",
       "      <td>-79.373306</td>\n",
       "    </tr>\n",
       "  </tbody>\n",
       "</table>\n",
       "</div>"
      ],
      "text/plain": [
       "  Postcode          Bourough               Neighborhood   Latitude  Longitude\n",
       "0      M5A  Downtown Toronto  Harbourfront, Regent Park  43.654260 -79.360636\n",
       "1      M5B  Downtown Toronto   Ryerson, Garden District  43.657162 -79.378937\n",
       "2      M5C  Downtown Toronto             St. James Town  43.651494 -79.375418\n",
       "3      M4E      East Toronto                The Beaches  43.676357 -79.293031\n",
       "4      M5E  Downtown Toronto                Berczy Park  43.644771 -79.373306"
      ]
     },
     "execution_count": 59,
     "metadata": {},
     "output_type": "execute_result"
    }
   ],
   "source": [
    "#import Programs\n",
    "from geopy.geocoders import Nominatim # convert an address into latitude and longitude values\n",
    "# Matplotlib and associated plotting modules\n",
    "import matplotlib.cm as cm\n",
    "import matplotlib.colors as colors\n",
    "# import k-means from clustering stage\n",
    "from sklearn.cluster import KMeans\n",
    "import folium # map rendering library\n",
    "\n",
    "\n",
    "#Find all unique Bouroughs\n",
    "df2.Bourough.unique()\n",
    "#Keep only the bourough that have Toronto in it\n",
    "neighborhoodsTor= df2[df2['Bourough'].str.contains(\"Toronto\")]\n",
    "neighborhoodsTor.reset_index(drop=True, inplace=True) #reindex\n",
    "\n",
    "\n",
    "neighborhoodsTor.head()\n"
   ]
  },
  {
   "cell_type": "markdown",
   "metadata": {},
   "source": [
    "Create a map of Toronto; I will use different colors for each borough\n",
    "\n",
    "Key: Blue= Downtown; Central= Red; East= Yellow; West= Green"
   ]
  },
  {
   "cell_type": "code",
   "execution_count": 57,
   "metadata": {},
   "outputs": [
    {
     "data": {
      "text/html": [
       "<div style=\"width:100%;\"><div style=\"position:relative;width:100%;height:0;padding-bottom:60%;\"><iframe src=\"data:text/html;charset=utf-8;base64,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\" style=\"position:absolute;width:100%;height:100%;left:0;top:0;border:none !important;\" allowfullscreen webkitallowfullscreen mozallowfullscreen></iframe></div></div>"
      ],
      "text/plain": [
       "<folium.folium.Map at 0x1e84ff1e400>"
      ]
     },
     "execution_count": 57,
     "metadata": {},
     "output_type": "execute_result"
    }
   ],
   "source": [
    "# create map of Toronto using latitude and longitude values; A zoom of 12 was selected to make it easier to find\n",
    "map_toronto = folium.Map(location=[43.6532, -79.3832], zoom_start=12)\n",
    "\n",
    "neighborhoodsTorD= df2[df2['Bourough'].str.contains(\"Downtown\")]\n",
    "neighborhoodsTorC= df2[df2['Bourough'].str.contains(\"Central\")]\n",
    "neighborhoodsTorW= df2[df2['Bourough'].str.contains(\"West\")]\n",
    "neighborhoodsTorE= df2[df2['Bourough'].str.contains(\"East Toronto\")] #there is another East Category\n",
    "\n",
    "# add markers to map\n",
    "for lat, lng, borough, neighborhood in zip(neighborhoodsTorD['Latitude'], neighborhoodsTorD['Longitude'], neighborhoodsTorD['Bourough'], neighborhoodsTorD['Neighborhood']):\n",
    "    label = '{}, {}'.format(neighborhood, borough)\n",
    "    label = folium.Popup(label, parse_html=True)\n",
    "    folium.CircleMarker(\n",
    "        [lat, lng],\n",
    "        radius=5,\n",
    "        popup=label,\n",
    "        color='blue',\n",
    "        fill=True,\n",
    "        fill_color='#3186cc',\n",
    "        fill_opacity=0.7,\n",
    "        parse_html=False).add_to(map_toronto)  \n",
    "\n",
    "# add markers to map\n",
    "for lat, lng, borough, neighborhood in zip(neighborhoodsTorC['Latitude'], neighborhoodsTorC['Longitude'], neighborhoodsTorC['Bourough'], neighborhoodsTorC['Neighborhood']):\n",
    "    label = '{}, {}'.format(neighborhood, borough)\n",
    "    label = folium.Popup(label, parse_html=True)\n",
    "    folium.CircleMarker(\n",
    "        [lat, lng],\n",
    "        radius=5,\n",
    "        popup=label,\n",
    "        color='red',\n",
    "        fill=True,\n",
    "        fill_color='#ff6666',\n",
    "        fill_opacity=0.7,\n",
    "        parse_html=False).add_to(map_toronto)      \n",
    "\n",
    "# add markers to map\n",
    "for lat, lng, borough, neighborhood in zip(neighborhoodsTorE['Latitude'], neighborhoodsTorE['Longitude'], neighborhoodsTorE['Bourough'], neighborhoodsTorE['Neighborhood']):\n",
    "    label = '{}, {}'.format(neighborhood, borough)\n",
    "    label = folium.Popup(label, parse_html=True)\n",
    "    folium.CircleMarker(\n",
    "        [lat, lng],\n",
    "        radius=5,\n",
    "        popup=label,\n",
    "        color='blue',\n",
    "        fill=True,\n",
    "        fill_color='#ffff66',\n",
    "        fill_opacity=0.7,\n",
    "        parse_html=False).add_to(map_toronto)  \n",
    "    \n",
    "    \n",
    "# add markers to map\n",
    "for lat, lng, borough, neighborhood in zip(neighborhoodsTorW['Latitude'], neighborhoodsTorW['Longitude'], neighborhoodsTorW['Bourough'], neighborhoodsTorW['Neighborhood']):\n",
    "    label = '{}, {}'.format(neighborhood, borough)\n",
    "    label = folium.Popup(label, parse_html=True)\n",
    "    folium.CircleMarker(\n",
    "        [lat, lng],\n",
    "        radius=5,\n",
    "        popup=label,\n",
    "        color='green',\n",
    "        fill=True,\n",
    "        fill_color='#66ff66',\n",
    "        fill_opacity=0.7,\n",
    "        parse_html=False).add_to(map_toronto)      \n",
    "    \n",
    "map_toronto\n",
    "\n"
   ]
  },
  {
   "cell_type": "markdown",
   "metadata": {},
   "source": [
    "From the data, it is clear there is cluster of postcodes, but where are they from? We will use the counts to determine the frequency of the respective bouroughs"
   ]
  },
  {
   "cell_type": "code",
   "execution_count": 60,
   "metadata": {},
   "outputs": [
    {
     "name": "stdout",
     "output_type": "stream",
     "text": [
      "                  value_counts\n",
      "Downtown Toronto            18\n",
      "Central Toronto              9\n",
      "West Toronto                 6\n",
      "East Toronto                 5\n"
     ]
    }
   ],
   "source": [
    "#value counts into frame\n",
    "#good variable \n",
    "Bourough_Counts = neighborhoodsTor['Bourough'].value_counts().to_frame()\n",
    "Bourough_Counts.rename(columns={'Bourough': 'value_counts'}, inplace=True)\n",
    "print(Bourough_Counts)\n"
   ]
  },
  {
   "cell_type": "markdown",
   "metadata": {},
   "source": [
    "We can infer downtown Toronto has the greatest density of people, hence there are many postcodes available."
   ]
  },
  {
   "cell_type": "code",
   "execution_count": null,
   "metadata": {},
   "outputs": [],
   "source": []
  }
 ],
 "metadata": {
  "kernelspec": {
   "display_name": "Python 3",
   "language": "python",
   "name": "python3"
  },
  "language_info": {
   "codemirror_mode": {
    "name": "ipython",
    "version": 3
   },
   "file_extension": ".py",
   "mimetype": "text/x-python",
   "name": "python",
   "nbconvert_exporter": "python",
   "pygments_lexer": "ipython3",
   "version": "3.7.1"
  }
 },
 "nbformat": 4,
 "nbformat_minor": 2
}
